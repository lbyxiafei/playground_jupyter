{
 "cells": [
  {
   "cell_type": "code",
   "execution_count": 1,
   "id": "e5a2328e",
   "metadata": {},
   "outputs": [
    {
     "name": "stdout",
     "output_type": "stream",
     "text": [
      "C:\\Users\\lbyxi\\Downloads\\test.pdf\n"
     ]
    }
   ],
   "source": [
    "from bonbon import * \n",
    "pd = pdownloads('test.pdf')\n",
    "jd = pdownloads('test.jpg')\n",
    "print(pd)"
   ]
  },
  {
   "cell_type": "code",
   "execution_count": 4,
   "id": "dd062daa",
   "metadata": {},
   "outputs": [],
   "source": [
    "# .pdf to .jpg\n",
    "\n",
    "# from pdf2image import convеrt_from_path\n",
    "import pdf2image \n",
    "\n",
    "pages = pdf2image.convert_from_path(pd)\n",
    "\n",
    "for i in range(len(pages)):\n",
    "    path = pdownloads('page'+ str(i) +'.jpg')\n",
    "    pages[i].save(path, 'JPEG')"
   ]
  },
  {
   "cell_type": "code",
   "execution_count": null,
   "id": "f7343838",
   "metadata": {},
   "outputs": [],
   "source": []
  },
  {
   "cell_type": "code",
   "execution_count": null,
   "id": "24e08f2c",
   "metadata": {},
   "outputs": [],
   "source": []
  },
  {
   "cell_type": "code",
   "execution_count": null,
   "id": "bb8725d8",
   "metadata": {},
   "outputs": [],
   "source": []
  },
  {
   "cell_type": "code",
   "execution_count": 5,
   "id": "a700337c",
   "metadata": {},
   "outputs": [
    {
     "name": "stdout",
     "output_type": "stream",
     "text": [
      "Case 23-90005 Document 610 Filed in TXSB on 03/03/23 Page 278 of 567\n",
      "\n",
      "Party City Corporation\n",
      "\n",
      "Schedule E/F: Creditors Who Have Unsecured Claims\n",
      "\n",
      "| Part 2: | List All Creditors with NONPRIORITY Unsecured Claims\n",
      "\n",
      "Creditor's Name, Mailing Address\n",
      "Including Zip Code\n",
      "\n",
      "Trade Payables\n",
      "\n",
      "Date Claim Was Incurred And cu\n",
      "\n",
      "Account Number\n",
      "\n",
      "Case Number: 23-90010 (DRJ)\n",
      "\n",
      "D Basis For\n",
      "Claim\n",
      "\n",
      "Offset Amount of Claim\n",
      "\n",
      "3.24 ACADEMY FIRE LIFE SAFETY LLC UNKNOWN Trade Payable $70,783\n",
      "42 BROADWAY\n",
      "LYNBROOK, NY 11563 ACCOUNT NO.: NOT AVAILABLE\n",
      "\n",
      "3.25 ACADIA REALTY LIMITED UNKNOWN Trade Payable $40,075\n",
      "PARTNERSHIP\n",
      "ROOSEVELT GALLERIA LLC ACCOUNT NO.: NOT AVAILABLE\n",
      "411 THEODORE FREMD AVENUE\n",
      "SUITE 300\n",
      "RYE, NY 10580\n",
      "\n",
      "3.26 ACADIA.IO LLC UNKNOWN Trade Payable $89,443\n",
      "956 BRADY AVE NW STE 400\n",
      "ATLANTA, GA 30318 ACCOUNT NO.: NOT AVAILABLE\n",
      "\n",
      "3.27 ACCESS POS LLC UNKNOWN Trade Payable $1,050\n",
      "990 LONE OAK RD\n",
      "SUITE 102 ACCOUNT NO.: NOT AVAILABLE\n",
      "EAGAN, MN 55121\n",
      "\n",
      "3.28 ACTUM II LLC UNKNOWN Trade Payable 90,000\n",
      "9000 SUNSET BLVD FL 3\n",
      "WEST HOLLYWOOD, CA 90069 ACCOUNT NO.: NOT AVAILABLE\n",
      "\n",
      "3.29 ACUMERA INC UNKNOWN Trade Payable 56,250\n",
      "3307 NORTHLAND DRIVE STE 170\n",
      "AUSTIN, TX 78731 ACCOUNT NO.: NOT AVAILABLE\n",
      "\n",
      "3.30 ADELE SUTTON TRUSTS LP (155) UNKNOWN Trade Payable 14,995\n",
      "C/O GJ MANAGEMENT CORP\n",
      "PO BOX 99816 ACCOUNT NO.: NOT AVAILABLE\n",
      "LOUISVILLE, KY 40269\n",
      "\n",
      "3.31. ADF WELDING AND MEDICAL INC UNKNOWN Trade Payable 34,750\n",
      "312 DODD BLVD SE\n",
      "ROME, GA 30161 ACCOUNT NO.: NOT AVAILABLE\n",
      "\n",
      "3.32 ADP UNKNOWN Trade Payable $812,595\n",
      "PO BOX 7247-0372\n",
      "PHILADELPHIA, PA 19170-0372 ACCOUNT NO.: NOT AVAILABLE\n",
      "\n",
      "3.33. ADVANCED GRAPHICS PA UNKNOWN Trade Payable $102,650\n",
      "466 N. MARSHALL WAY #C\n",
      "LAYTON, UT 84041 ACCOUNT NO.: NOT AVAILABLE\n",
      "\n",
      "3.34. ADVANCED WIRELESS UNKNOWN Trade Payable $27,262\n",
      "\n",
      "COMMUNICATIONS\n",
      "20809 KENSINGTON BLVD\n",
      "LAKEVILLE, MN 55044\n",
      "\n",
      "ACCOUNT NO.: NOT AVAILABLE\n",
      "\n",
      "Page 4 of 121 to Schedule E/F Part 2\n",
      "\n",
      "\n"
     ]
    }
   ],
   "source": [
    "# .jpg to .txt\n",
    "\n",
    "import pytesseract\n",
    "from PIL import Image\n",
    "\n",
    "# Open the image file\n",
    "img = Image.open(jd)\n",
    "\n",
    "# Perform OCR using pytesseract\n",
    "text = pytesseract.image_to_string(img)\n",
    "\n",
    "\n",
    "# Print the extracted text\n",
    "print(text)\n"
   ]
  },
  {
   "cell_type": "code",
   "execution_count": 19,
   "id": "f5d97f26",
   "metadata": {},
   "outputs": [],
   "source": []
  },
  {
   "cell_type": "code",
   "execution_count": null,
   "id": "c3225c12",
   "metadata": {},
   "outputs": [],
   "source": []
  },
  {
   "cell_type": "code",
   "execution_count": null,
   "id": "46c4ad1b",
   "metadata": {},
   "outputs": [],
   "source": []
  },
  {
   "cell_type": "code",
   "execution_count": null,
   "id": "8fe6bf3b",
   "metadata": {},
   "outputs": [],
   "source": []
  },
  {
   "cell_type": "code",
   "execution_count": null,
   "id": "01c160a9",
   "metadata": {},
   "outputs": [],
   "source": []
  },
  {
   "cell_type": "code",
   "execution_count": null,
   "id": "6188405f",
   "metadata": {},
   "outputs": [],
   "source": []
  },
  {
   "cell_type": "code",
   "execution_count": 3,
   "id": "5b6807f1",
   "metadata": {},
   "outputs": [
    {
     "name": "stdout",
     "output_type": "stream",
     "text": [
      "['__builtins__', '__cached__', '__doc__', '__file__', '__loader__', '__name__', '__package__', '__path__', '__spec__', 'convert_from_bytes', 'convert_from_path', 'exceptions', 'generators', 'parsers', 'pdf2image', 'pdfinfo_from_bytes', 'pdfinfo_from_path']\n"
     ]
    }
   ],
   "source": [
    "import pdf2image\n",
    "print(dir(pdf2image))"
   ]
  },
  {
   "cell_type": "code",
   "execution_count": 3,
   "id": "f56a5280",
   "metadata": {},
   "outputs": [],
   "source": [
    "# pdf to jpg\n",
    "\n",
    "# from pdf2image import convеrt_from_path\n",
    "import pdf2image \n",
    "\n",
    "pages = pdf2image.convert_from_path(pd)\n",
    "\n",
    "for i in range(len(pages)):\n",
    "    pages[i].save('page'+ str(i) +'.jpg', 'JPEG')"
   ]
  },
  {
   "cell_type": "code",
   "execution_count": null,
   "id": "fff34a61",
   "metadata": {},
   "outputs": [],
   "source": []
  },
  {
   "cell_type": "code",
   "execution_count": null,
   "id": "600fea09",
   "metadata": {},
   "outputs": [],
   "source": []
  },
  {
   "cell_type": "code",
   "execution_count": null,
   "id": "a8dcab7e",
   "metadata": {},
   "outputs": [],
   "source": []
  },
  {
   "cell_type": "code",
   "execution_count": null,
   "id": "2b7d5801",
   "metadata": {},
   "outputs": [],
   "source": []
  },
  {
   "cell_type": "code",
   "execution_count": null,
   "id": "8d618a21",
   "metadata": {},
   "outputs": [],
   "source": []
  },
  {
   "cell_type": "code",
   "execution_count": 17,
   "id": "469d464c",
   "metadata": {},
   "outputs": [
    {
     "name": "stdout",
     "output_type": "stream",
     "text": [
      "{'/Contents': [IndirectObject(50, 0, 1400250986656), IndirectObject(51, 0, 1400250986656), IndirectObject(52, 0, 1400250986656), IndirectObject(53, 0, 1400250986656), IndirectObject(54, 0, 1400250986656), IndirectObject(55, 0, 1400250986656), IndirectObject(56, 0, 1400250986656), IndirectObject(57, 0, 1400250986656)], '/CropBox': [0.637207, 0.637207, 596.389, 791.044], '/MediaBox': [0, 0, 597.345, 791.363], '/Parent': IndirectObject(44, 0, 1400250986656), '/Resources': {'/Font': {'/C0_0': IndirectObject(74, 0, 1400250986656), '/C0_1': IndirectObject(78, 0, 1400250986656), '/C0_2': IndirectObject(82, 0, 1400250986656), '/C0_3': IndirectObject(86, 0, 1400250986656), '/C0_4': IndirectObject(90, 0, 1400250986656)}, '/ProcSet': ['/PDF', '/Text', '/ImageB'], '/XObject': {'/Im0': IndirectObject(68, 0, 1400250986656)}}, '/Rotate': 0, '/Type': '/Page'}\n",
      "{'/Contents': IndirectObject(2, 0, 1400250986656), '/CropBox': [1.22549, 1.22549, 596.834, 768.715], '/MediaBox': [0, 0, 598.366, 769.94], '/Parent': IndirectObject(44, 0, 1400250986656), '/Resources': {'/Font': {'/C0_0': IndirectObject(39, 0, 1400250986656), '/C0_1': IndirectObject(37, 0, 1400250986656), '/C0_2': IndirectObject(38, 0, 1400250986656), '/C0_3': IndirectObject(40, 0, 1400250986656), '/C0_4': IndirectObject(36, 0, 1400250986656)}, '/ProcSet': ['/PDF', '/Text', '/ImageB'], '/XObject': {'/Im0': IndirectObject(13, 0, 1400250986656)}}, '/Rotate': 0, '/Type': '/Page'}\n"
     ]
    }
   ],
   "source": [
    "from PyPDF2 import PdfReader\n",
    "\n",
    "# Open the PDF file in read binary mode\n",
    "with open(td, 'rb') as pdf_file:\n",
    "    \n",
    "    # Create a PDF reader object\n",
    "    pdf_reader = PdfReader(pdf_file)\n",
    "    \n",
    "    # Get the number of pages in the PDF file\n",
    "    num_pages = len(pdf_reader.pages)\n",
    "    \n",
    "    # Loop through each page in the PDF file\n",
    "    for page_num in range(num_pages):\n",
    "        \n",
    "        # Get the page object for the current page\n",
    "        page = pdf_reader.pages[page_num]\n",
    "        \n",
    "        print(page)\n",
    "        print()\n",
    "        \n",
    "#         # Extract the text from the page\n",
    "#         page_text = page.text\n",
    "        \n",
    "#         # Print the text for the current page\n",
    "#         print(f'Text for Page {page_num+1}:\\n{page_text}\\n')\n"
   ]
  },
  {
   "cell_type": "code",
   "execution_count": 14,
   "id": "a724d68d",
   "metadata": {},
   "outputs": [
    {
     "ename": "ModuleNotFoundError",
     "evalue": "No module named 'PypPDF2'",
     "output_type": "error",
     "traceback": [
      "\u001b[1;31m---------------------------------------------------------------------------\u001b[0m",
      "\u001b[1;31mModuleNotFoundError\u001b[0m                       Traceback (most recent call last)",
      "Cell \u001b[1;32mIn[14], line 1\u001b[0m\n\u001b[1;32m----> 1\u001b[0m \u001b[38;5;28;01mfrom\u001b[39;00m \u001b[38;5;21;01mPypPDF2\u001b[39;00m \u001b[38;5;28;01mimport\u001b[39;00m PdfReader\n",
      "\u001b[1;31mModuleNotFoundError\u001b[0m: No module named 'PypPDF2'"
     ]
    }
   ],
   "source": [
    "from PypPDF2 import PdfReader"
   ]
  },
  {
   "cell_type": "code",
   "execution_count": null,
   "id": "39854bbc",
   "metadata": {},
   "outputs": [],
   "source": []
  }
 ],
 "metadata": {
  "kernelspec": {
   "display_name": "Python 3 (ipykernel)",
   "language": "python",
   "name": "python3"
  },
  "language_info": {
   "codemirror_mode": {
    "name": "ipython",
    "version": 3
   },
   "file_extension": ".py",
   "mimetype": "text/x-python",
   "name": "python",
   "nbconvert_exporter": "python",
   "pygments_lexer": "ipython3",
   "version": "3.9.16"
  }
 },
 "nbformat": 4,
 "nbformat_minor": 5
}
