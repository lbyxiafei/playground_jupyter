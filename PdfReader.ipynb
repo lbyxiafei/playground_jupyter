{
 "cells": [
  {
   "cell_type": "code",
   "execution_count": 1,
   "id": "e5a2328e",
   "metadata": {},
   "outputs": [
    {
     "name": "stdout",
     "output_type": "stream",
     "text": [
      "C:\\Users\\lbyxi\\Downloads\\test.pdf\n"
     ]
    }
   ],
   "source": [
    "from bonbon import * \n",
    "pd = pdownloads('test.pdf')\n",
    "jd = pdownloads('test.jpg')\n",
    "print(pd)"
   ]
  },
  {
   "cell_type": "code",
   "execution_count": 2,
   "id": "a700337c",
   "metadata": {},
   "outputs": [
    {
     "name": "stdout",
     "output_type": "stream",
     "text": [
      "Full (Fleet) Registrants and Editorial Press\n",
      "\n",
      "Acevedo, Emest\n",
      "Dir, Fleet Maint. & Onboard\n",
      "Technologies\n",
      "Boyle Transport.\n",
      "\n",
      "15 Riverhurst Road\n",
      "\n",
      "Billerica, MA 01821-3425\n",
      "\n",
      "(978) 670-3432\n",
      "ernest.acevedo@boyletransport.\n",
      "com\n",
      "\n",
      "Acker, Aaron\n",
      "Midwest Area Maint. Prog, Mgr.\n",
      "Messer North America, Inc.\n",
      "7178 E 50N\n",
      "Mill Creek, IN 46365\n",
      "(785) 886-1253\n",
      "aaron.acker@messer-us.com\n",
      "\n",
      "Adriaansen, Kevin\n",
      "VP, Bus. Dev.\n",
      "Leonard's Express, Inc.\n",
      "6070 Collett Rd.\n",
      "Farmington, NY 14425\n",
      "(585)869-3191\n",
      "kevin.adriaansen@\n",
      "leonardsexpress.com\n",
      "\n",
      "Albers, Craig\n",
      "Dir, Trailer Ops.\n",
      "Werner Enterprises, Inc.\n",
      "14507 Frontier Rd.\n",
      "Omaha, NE 68138\n",
      "calbers@wemer.com\n",
      "\n",
      "* Alexander, Thomas\n",
      "\n",
      "Sr. Team Leader - Maint.\n",
      "Chick Fil A\n",
      "\n",
      "3872 Logistics Way\n",
      "\n",
      "Bidg 3\n",
      "\n",
      "Antioch, TN. 37013\n",
      "\n",
      "(404) 569-177\n",
      "thomas.alexander@cfa-supply.\n",
      "com\n",
      "\n",
      "* Alexandre, Audie\n",
      "President\n",
      "\n",
      "RWT Leasing\n",
      "\n",
      "4050 140 Service Road, Building C\n",
      "Oklahoma City, OK 73108\n",
      "\n",
      "(818) 703-2899\n",
      "aalexandre@rwtics.com\n",
      "\n",
      "Allen, Robert\n",
      "Sr. Mgr, Learning & Dev.\n",
      "Ryder System, inc.\n",
      "\n",
      "3425 West Tharpe Street\n",
      "Tallahassee, FL 32303\n",
      "(850)841-0692\n",
      "roallen@ryder.com\n",
      "\n",
      "Alley, Robert\n",
      "Senior Dir, Maint. & Learning\n",
      "Ryder System, Inc.\n",
      "\n",
      "11690 NW 105 Street\n",
      "Miami, FL 33178\n",
      "\n",
      "(305) 800-3327\n",
      "robert_m_alley@ryder.com\n",
      "\n",
      "Almond, Damell\n",
      "Corp. Fleet Accounts Mgr.\n",
      "TranSource Inc.\n",
      "\n",
      "8700 Triad Drive\n",
      "\n",
      "Colfax, NC 27235\n",
      "\n",
      "(704) 985-8298\n",
      "darnellalmond@tsource.com\n",
      "\n",
      "Altrichter, Kirk\n",
      "EVP, Fleet Svcs.\n",
      "The Kenan Advantage Group, Inc.\n",
      "4366 Mount Pleasant St. NW\n",
      "North Canton, OH 44720\n",
      "(330) 409-2122\n",
      "kirk altrichter@thekag.com\n",
      "\n",
      "Anderson, Timothy\n",
      "Refrigeration Product Mgr. West\n",
      "PLM Trailer Leasing\n",
      "\n",
      "706 Doris Lane\n",
      "\n",
      "Gunter, TX 75058\n",
      "\n",
      "(903) 814-0014\n",
      "tanderson@pimfleet.com\n",
      "\n",
      "* Andrade, Jesse\n",
      "Shop Mgr.\n",
      "\n",
      "GP Transco\n",
      "\n",
      "3200 Channahon Rd.\n",
      "Joliet, IL 60436\n",
      "\n",
      "(708) 208-1203\n",
      "jesse@gptransco.com\n",
      "\n",
      "Antonellis, Brian\n",
      "SVP, Fleet Ops.\n",
      "Fleet Advantage\n",
      "401 Las Olas Blvd.\n",
      "Ste. 1720\n",
      "Fort Lauderdale, FL 33301\n",
      "(954) 615-4434\n",
      "Bantonellis@fleetadvantage.com\n",
      "\n",
      "Arent, John\n",
      "Dir. IT\n",
      "C-MAC Transport. LLC\n",
      "805 Canterbury Rd.\n",
      "Grosse Pointe Woods, MI. 48236\n",
      "(216) 904-3190\n",
      "jarent@cmactrans.com\n",
      "\n",
      "Amold, Heath\n",
      "Dir, Safety & Security\n",
      "ABF Freight System, Inc.\n",
      "3801 Old Greenwood Rd.\n",
      "Fort Smith, AR 72903\n",
      "(479)785-6223\n",
      "hamold@abf.com\n",
      "\n",
      "Amold, Robert\n",
      "VP, Maint.\n",
      "Action Resources\n",
      "5001 Underwood Rd.\n",
      "Pasadena, TX 77507\n",
      "(281) 881-6450\n",
      "robby.arnold@actn.com\n",
      "\n",
      "\"TFirsttime atiendee\n",
      "\n"
     ]
    }
   ],
   "source": [
    "import pytesseract\n",
    "from PIL import Image\n",
    "\n",
    "# Open the image file\n",
    "img = Image.open(jd)\n",
    "\n",
    "# Perform OCR using pytesseract\n",
    "text = pytesseract.image_to_string(img)\n",
    "\n",
    "\n",
    "# Print the extracted text\n",
    "print(text)\n"
   ]
  },
  {
   "cell_type": "code",
   "execution_count": 19,
   "id": "f5d97f26",
   "metadata": {},
   "outputs": [],
   "source": []
  },
  {
   "cell_type": "code",
   "execution_count": null,
   "id": "c3225c12",
   "metadata": {},
   "outputs": [],
   "source": []
  },
  {
   "cell_type": "code",
   "execution_count": null,
   "id": "46c4ad1b",
   "metadata": {},
   "outputs": [],
   "source": []
  },
  {
   "cell_type": "code",
   "execution_count": null,
   "id": "8fe6bf3b",
   "metadata": {},
   "outputs": [],
   "source": []
  },
  {
   "cell_type": "code",
   "execution_count": null,
   "id": "01c160a9",
   "metadata": {},
   "outputs": [],
   "source": []
  },
  {
   "cell_type": "code",
   "execution_count": null,
   "id": "6188405f",
   "metadata": {},
   "outputs": [],
   "source": []
  },
  {
   "cell_type": "code",
   "execution_count": 3,
   "id": "5b6807f1",
   "metadata": {},
   "outputs": [
    {
     "name": "stdout",
     "output_type": "stream",
     "text": [
      "['__builtins__', '__cached__', '__doc__', '__file__', '__loader__', '__name__', '__package__', '__path__', '__spec__', 'convert_from_bytes', 'convert_from_path', 'exceptions', 'generators', 'parsers', 'pdf2image', 'pdfinfo_from_bytes', 'pdfinfo_from_path']\n"
     ]
    }
   ],
   "source": [
    "import pdf2image\n",
    "print(dir(pdf2image))"
   ]
  },
  {
   "cell_type": "code",
   "execution_count": 3,
   "id": "f56a5280",
   "metadata": {},
   "outputs": [],
   "source": [
    "# pdf to jpg\n",
    "\n",
    "# from pdf2image import convеrt_from_path\n",
    "import pdf2image \n",
    "\n",
    "pages = pdf2image.convert_from_path(pd)\n",
    "\n",
    "for i in range(len(pages)):\n",
    "    pages[i].save('page'+ str(i) +'.jpg', 'JPEG')"
   ]
  },
  {
   "cell_type": "code",
   "execution_count": null,
   "id": "fff34a61",
   "metadata": {},
   "outputs": [],
   "source": []
  },
  {
   "cell_type": "code",
   "execution_count": null,
   "id": "600fea09",
   "metadata": {},
   "outputs": [],
   "source": []
  },
  {
   "cell_type": "code",
   "execution_count": null,
   "id": "a8dcab7e",
   "metadata": {},
   "outputs": [],
   "source": []
  },
  {
   "cell_type": "code",
   "execution_count": null,
   "id": "2b7d5801",
   "metadata": {},
   "outputs": [],
   "source": []
  },
  {
   "cell_type": "code",
   "execution_count": null,
   "id": "8d618a21",
   "metadata": {},
   "outputs": [],
   "source": []
  },
  {
   "cell_type": "code",
   "execution_count": 17,
   "id": "469d464c",
   "metadata": {},
   "outputs": [
    {
     "name": "stdout",
     "output_type": "stream",
     "text": [
      "{'/Contents': [IndirectObject(50, 0, 1400250986656), IndirectObject(51, 0, 1400250986656), IndirectObject(52, 0, 1400250986656), IndirectObject(53, 0, 1400250986656), IndirectObject(54, 0, 1400250986656), IndirectObject(55, 0, 1400250986656), IndirectObject(56, 0, 1400250986656), IndirectObject(57, 0, 1400250986656)], '/CropBox': [0.637207, 0.637207, 596.389, 791.044], '/MediaBox': [0, 0, 597.345, 791.363], '/Parent': IndirectObject(44, 0, 1400250986656), '/Resources': {'/Font': {'/C0_0': IndirectObject(74, 0, 1400250986656), '/C0_1': IndirectObject(78, 0, 1400250986656), '/C0_2': IndirectObject(82, 0, 1400250986656), '/C0_3': IndirectObject(86, 0, 1400250986656), '/C0_4': IndirectObject(90, 0, 1400250986656)}, '/ProcSet': ['/PDF', '/Text', '/ImageB'], '/XObject': {'/Im0': IndirectObject(68, 0, 1400250986656)}}, '/Rotate': 0, '/Type': '/Page'}\n",
      "{'/Contents': IndirectObject(2, 0, 1400250986656), '/CropBox': [1.22549, 1.22549, 596.834, 768.715], '/MediaBox': [0, 0, 598.366, 769.94], '/Parent': IndirectObject(44, 0, 1400250986656), '/Resources': {'/Font': {'/C0_0': IndirectObject(39, 0, 1400250986656), '/C0_1': IndirectObject(37, 0, 1400250986656), '/C0_2': IndirectObject(38, 0, 1400250986656), '/C0_3': IndirectObject(40, 0, 1400250986656), '/C0_4': IndirectObject(36, 0, 1400250986656)}, '/ProcSet': ['/PDF', '/Text', '/ImageB'], '/XObject': {'/Im0': IndirectObject(13, 0, 1400250986656)}}, '/Rotate': 0, '/Type': '/Page'}\n"
     ]
    }
   ],
   "source": [
    "from PyPDF2 import PdfReader\n",
    "\n",
    "# Open the PDF file in read binary mode\n",
    "with open(td, 'rb') as pdf_file:\n",
    "    \n",
    "    # Create a PDF reader object\n",
    "    pdf_reader = PdfReader(pdf_file)\n",
    "    \n",
    "    # Get the number of pages in the PDF file\n",
    "    num_pages = len(pdf_reader.pages)\n",
    "    \n",
    "    # Loop through each page in the PDF file\n",
    "    for page_num in range(num_pages):\n",
    "        \n",
    "        # Get the page object for the current page\n",
    "        page = pdf_reader.pages[page_num]\n",
    "        \n",
    "        print(page)\n",
    "        print()\n",
    "        \n",
    "#         # Extract the text from the page\n",
    "#         page_text = page.text\n",
    "        \n",
    "#         # Print the text for the current page\n",
    "#         print(f'Text for Page {page_num+1}:\\n{page_text}\\n')\n"
   ]
  },
  {
   "cell_type": "code",
   "execution_count": 14,
   "id": "a724d68d",
   "metadata": {},
   "outputs": [
    {
     "ename": "ModuleNotFoundError",
     "evalue": "No module named 'PypPDF2'",
     "output_type": "error",
     "traceback": [
      "\u001b[1;31m---------------------------------------------------------------------------\u001b[0m",
      "\u001b[1;31mModuleNotFoundError\u001b[0m                       Traceback (most recent call last)",
      "Cell \u001b[1;32mIn[14], line 1\u001b[0m\n\u001b[1;32m----> 1\u001b[0m \u001b[38;5;28;01mfrom\u001b[39;00m \u001b[38;5;21;01mPypPDF2\u001b[39;00m \u001b[38;5;28;01mimport\u001b[39;00m PdfReader\n",
      "\u001b[1;31mModuleNotFoundError\u001b[0m: No module named 'PypPDF2'"
     ]
    }
   ],
   "source": [
    "from PypPDF2 import PdfReader"
   ]
  },
  {
   "cell_type": "code",
   "execution_count": null,
   "id": "39854bbc",
   "metadata": {},
   "outputs": [],
   "source": []
  }
 ],
 "metadata": {
  "kernelspec": {
   "display_name": "Python 3 (ipykernel)",
   "language": "python",
   "name": "python3"
  },
  "language_info": {
   "codemirror_mode": {
    "name": "ipython",
    "version": 3
   },
   "file_extension": ".py",
   "mimetype": "text/x-python",
   "name": "python",
   "nbconvert_exporter": "python",
   "pygments_lexer": "ipython3",
   "version": "3.9.16"
  }
 },
 "nbformat": 4,
 "nbformat_minor": 5
}
