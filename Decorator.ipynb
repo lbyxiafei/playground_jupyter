{
 "cells": [
  {
   "cell_type": "markdown",
   "id": "fad98ed6",
   "metadata": {},
   "source": [
    "## Decorator\n",
    "\n",
    "```python\n",
    "@decorator\n",
    "def func():\n",
    "    pass\n",
    "```\n",
    "\n",
    "**会被解析为**\n",
    "\n",
    "```python\n",
    "func = decorator(func)\n",
    "```"
   ]
  },
  {
   "cell_type": "code",
   "execution_count": 12,
   "id": "e63dac85",
   "metadata": {},
   "outputs": [
    {
     "name": "stdout",
     "output_type": "stream",
     "text": [
      "hello, Hao\n",
      "i am Hao Chen\n",
      "goodbye, Hao\n"
     ]
    }
   ],
   "source": [
    "\n",
    "def hello(fn):\n",
    "    def test():\n",
    "        print('test')\n",
    "    def wrapper():\n",
    "        print(\"hello, %s\" % fn.__name__)\n",
    "        fn()\n",
    "        print(\"goodbye, %s\" % fn.__name__)\n",
    "    return wrapper\n",
    " \n",
    "@hello\n",
    "def Hao():\n",
    "    print(\"i am Hao Chen\")\n",
    "\n",
    "# hello(Hao)\n",
    "Hao()"
   ]
  },
  {
   "cell_type": "code",
   "execution_count": 7,
   "id": "a804004f",
   "metadata": {},
   "outputs": [
    {
     "name": "stdout",
     "output_type": "stream",
     "text": [
      "()\n",
      "{'css_class': 'bold_css'}\n",
      "b\n",
      "()\n",
      "{'css_class': 'italic_css'}\n",
      "i\n",
      "<b class='bold_css'><i class='italic_css'>hello world</i></b>\n"
     ]
    }
   ],
   "source": [
    "\n",
    "def makeHtmlTag(tag, *args, **kwds):\n",
    "    def real_decorator(fn):\n",
    "        css_class = \" class='{0}'\".format(kwds[\"css_class\"]) \\\n",
    "                                     if \"css_class\" in kwds else \"\"\n",
    "        def wrapped(*args, **kwds):\n",
    "            return \"<\"+tag+css_class+\">\" + fn(*args, **kwds) + \"</\"+tag+\">\"\n",
    "        return wrapped\n",
    "    return real_decorator\n",
    " \n",
    "@makeHtmlTag(tag=\"b\", css_class=\"bold_css\")\n",
    "@makeHtmlTag(tag=\"i\", css_class=\"italic_css\")\n",
    "def hello():\n",
    "    return \"hello world\"\n",
    " \n",
    "print(hello())\n",
    "\n",
    "# makeHtmlTag(arg1, arg2)(makeHtmlTag(arg1, arg2)(hello))\n",
    "# 输出：\n",
    "# <b class='bold_css'><i class='italic_css'>hello world</i></b>\n",
    "\n"
   ]
  },
  {
   "cell_type": "code",
   "execution_count": 15,
   "id": "c4fc9bee",
   "metadata": {},
   "outputs": [
    {
     "name": "stdout",
     "output_type": "stream",
     "text": [
      "This is the main page.\n",
      "This is the next page.\n"
     ]
    }
   ],
   "source": [
    "\n",
    "class MyApp():\n",
    "    def __init__(self):\n",
    "        self.func_map = {}\n",
    " \n",
    "    def register(self, name):\n",
    "        def func_wrapper(func):\n",
    "            self.func_map[name] = func\n",
    "            return func\n",
    "        return func_wrapper\n",
    " \n",
    "    def call_method(self, name=None):\n",
    "        func = self.func_map.get(name, None)\n",
    "        if func is None:\n",
    "            raise Exception(\"No function registered against - \" + str(name))\n",
    "        return func()\n",
    " \n",
    "app = MyApp()\n",
    " \n",
    "@app.register('/')\n",
    "def main_page_func():\n",
    "    return \"This is the main page.\"\n",
    " \n",
    "@app.register('/next_page')\n",
    "def next_page_func():\n",
    "    return \"This is the next page.\"\n",
    " \n",
    "print(app.call_method('/'))\n",
    "print(app.call_method('/next_page'))"
   ]
  },
  {
   "cell_type": "code",
   "execution_count": 32,
   "id": "2732b17b",
   "metadata": {},
   "outputs": [
    {
     "name": "stdout",
     "output_type": "stream",
     "text": [
      "bar\n",
      "foo\n"
     ]
    },
    {
     "ename": "TypeError",
     "evalue": "'int' object is not callable",
     "output_type": "error",
     "traceback": [
      "\u001b[1;31m---------------------------------------------------------------------------\u001b[0m",
      "\u001b[1;31mTypeError\u001b[0m                                 Traceback (most recent call last)",
      "Cell \u001b[1;32mIn[32], line 10\u001b[0m\n\u001b[0;32m      6\u001b[0m \u001b[38;5;129m@foo\u001b[39m\n\u001b[0;32m      7\u001b[0m \u001b[38;5;28;01mdef\u001b[39;00m \u001b[38;5;21mbar\u001b[39m():\n\u001b[0;32m      8\u001b[0m     \u001b[38;5;28mprint\u001b[39m(\u001b[38;5;124m\"\u001b[39m\u001b[38;5;124mbar\u001b[39m\u001b[38;5;124m\"\u001b[39m)\n\u001b[1;32m---> 10\u001b[0m \u001b[43mbar\u001b[49m\u001b[43m(\u001b[49m\u001b[43m)\u001b[49m\n",
      "\u001b[1;31mTypeError\u001b[0m: 'int' object is not callable"
     ]
    }
   ],
   "source": [
    "def foo(func):\n",
    "    func()\n",
    "    print(\"foo\")\n",
    "    return 1\n",
    "    \n",
    "@foo\n",
    "def bar():\n",
    "    print(\"bar\")\n",
    "    \n",
    "bar()"
   ]
  }
 ],
 "metadata": {
  "kernelspec": {
   "display_name": "Python 3 (ipykernel)",
   "language": "python",
   "name": "python3"
  },
  "language_info": {
   "codemirror_mode": {
    "name": "ipython",
    "version": 3
   },
   "file_extension": ".py",
   "mimetype": "text/x-python",
   "name": "python",
   "nbconvert_exporter": "python",
   "pygments_lexer": "ipython3",
   "version": "3.9.16"
  }
 },
 "nbformat": 4,
 "nbformat_minor": 5
}
