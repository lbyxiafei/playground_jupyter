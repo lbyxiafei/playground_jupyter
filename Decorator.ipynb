{
 "cells": [
  {
   "cell_type": "markdown",
   "id": "fad98ed6",
   "metadata": {},
   "source": [
    "## Decorator\n",
    "\n",
    "```python\n",
    "@decorator\n",
    "def func():\n",
    "    pass\n",
    "```\n",
    "\n",
    "**会被解析为**\n",
    "\n",
    "```python\n",
    "func = decorator(func)\n",
    "```"
   ]
  },
  {
   "cell_type": "code",
   "execution_count": 12,
   "id": "e63dac85",
   "metadata": {},
   "outputs": [
    {
     "name": "stdout",
     "output_type": "stream",
     "text": [
      "hello, Hao\n",
      "i am Hao Chen\n",
      "goodbye, Hao\n"
     ]
    }
   ],
   "source": [
    "\n",
    "def hello(fn):\n",
    "    def test():\n",
    "        print('test')\n",
    "    def wrapper():\n",
    "        print(\"hello, %s\" % fn.__name__)\n",
    "        fn()\n",
    "        print(\"goodbye, %s\" % fn.__name__)\n",
    "    return wrapper\n",
    " \n",
    "@hello\n",
    "def Hao():\n",
    "    print(\"i am Hao Chen\")\n",
    "\n",
    "# hello(Hao)\n",
    "Hao()"
   ]
  },
  {
   "cell_type": "code",
   "execution_count": 8,
   "id": "a804004f",
   "metadata": {},
   "outputs": [
    {
     "name": "stdout",
     "output_type": "stream",
     "text": [
      "<b class='bold_css'><i class='italic_css'>hello world</i></b>\n"
     ]
    }
   ],
   "source": [
    "\n",
    "def makeHtmlTag(tag, *args, **kwds):\n",
    "    def real_decorator(fn):\n",
    "        css_class = \" class='{0}'\".format(kwds[\"css_class\"]) \\\n",
    "                                     if \"css_class\" in kwds else \"\"\n",
    "        def wrapped(*args, **kwds):\n",
    "            return \"<\"+tag+css_class+\">\" + fn(*args, **kwds) + \"</\"+tag+\">\"\n",
    "        return wrapped\n",
    "    return real_decorator\n",
    " \n",
    "@makeHtmlTag(tag=\"b\", css_class=\"bold_css\")\n",
    "@makeHtmlTag(tag=\"i\", css_class=\"italic_css\")\n",
    "def hello():\n",
    "    return \"hello world\"\n",
    " \n",
    "print(hello())\n",
    "\n",
    "# makeHtmlTag(arg1, arg2)(makeHtmlTag(arg1, arg2)(hello))\n",
    "# 输出：\n",
    "# <b class='bold_css'><i class='italic_css'>hello world</i></b>\n",
    "\n"
   ]
  },
  {
   "cell_type": "code",
   "execution_count": 15,
   "id": "c4fc9bee",
   "metadata": {},
   "outputs": [
    {
     "name": "stdout",
     "output_type": "stream",
     "text": [
      "This is the main page.\n",
      "This is the next page.\n"
     ]
    }
   ],
   "source": [
    "\n",
    "class MyApp():\n",
    "    def __init__(self):\n",
    "        self.func_map = {}\n",
    " \n",
    "    def register(self, name):\n",
    "        def func_wrapper(func):\n",
    "            self.func_map[name] = func\n",
    "            return func\n",
    "        return func_wrapper\n",
    " \n",
    "    def call_method(self, name=None):\n",
    "        func = self.func_map.get(name, None)\n",
    "        if func is None:\n",
    "            raise Exception(\"No function registered against - \" + str(name))\n",
    "        return func()\n",
    " \n",
    "app = MyApp()\n",
    " \n",
    "@app.register('/')\n",
    "def main_page_func():\n",
    "    return \"This is the main page.\"\n",
    " \n",
    "@app.register('/next_page')\n",
    "def next_page_func():\n",
    "    return \"This is the next page.\"\n",
    " \n",
    "print(app.call_method('/'))\n",
    "print(app.call_method('/next_page'))"
   ]
  },
  {
   "cell_type": "code",
   "execution_count": 55,
   "id": "e399b24d",
   "metadata": {},
   "outputs": [
    {
     "data": {
      "text/plain": [
       "<function __main__.foo.<locals>.decorator.<locals>.wrapper()>"
      ]
     },
     "execution_count": 55,
     "metadata": {},
     "output_type": "execute_result"
    }
   ],
   "source": [
    "def foo(func):\n",
    "    def decorator():\n",
    "        def wrapper():\n",
    "            func()\n",
    "        return wrapper\n",
    "    return decorator\n",
    "\n",
    "@foo\n",
    "def bar():\n",
    "    print('bar')\n",
    "    \n",
    "bar()"
   ]
  },
  {
   "cell_type": "code",
   "execution_count": 35,
   "id": "2732b17b",
   "metadata": {},
   "outputs": [
    {
     "name": "stdout",
     "output_type": "stream",
     "text": [
      "bar\n",
      "foo\n"
     ]
    }
   ],
   "source": [
    "def foo(func):\n",
    "    def wrapper(*args, **kwargs):\n",
    "        func(*args, **kwargs)\n",
    "        print(\"foo\")\n",
    "    return wrapper\n",
    "    \n",
    "@foo\n",
    "def bar():\n",
    "    print(\"bar\")\n",
    "    \n",
    "bar()"
   ]
  },
  {
   "cell_type": "code",
   "execution_count": 64,
   "id": "413a7b5c",
   "metadata": {},
   "outputs": [
    {
     "name": "stdout",
     "output_type": "stream",
     "text": [
      "abc\n",
      "foo\n",
      "bar msg\n",
      "!\n"
     ]
    }
   ],
   "source": [
    "def foo(name):\n",
    "    print(name)\n",
    "    def decorator(func):\n",
    "        def wrapper(*args, **kwargs):\n",
    "            print(\"foo\")\n",
    "            return func(*args, **kwargs)\n",
    "        return wrapper\n",
    "    return decorator\n",
    "    \n",
    "@foo(name='abc')\n",
    "def bar(msg='msg'):\n",
    "    print(\"bar\", msg)\n",
    "    return \"!\"\n",
    "    \n",
    "t=bar()\n",
    "print(t)"
   ]
  },
  {
   "cell_type": "code",
   "execution_count": 1,
   "id": "b732c6a8",
   "metadata": {},
   "outputs": [
    {
     "name": "stdout",
     "output_type": "stream",
     "text": [
      "C:\\Users\\lbyxi\\KM\\test.km\n",
      "Help on module bonbon.local.bon_file in bonbon.local:\n",
      "\n",
      "NAME\n",
      "    bonbon.local.bon_file\n",
      "\n",
      "FUNCTIONS\n",
      "    astring(s, *args)\n",
      "    \n",
      "    mdir(file_path)\n",
      "        Generate dir with given file path.\n",
      "    \n",
      "    pdownloads(*args)\n",
      "        Return dir path under default Downloads with splat(*) dir components.\n",
      "    \n",
      "    pjson()\n",
      "    \n",
      "    puser(*dirs)\n",
      "        Return dir path under default user path with splat(*) dir components.\n",
      "    \n",
      "    rcsv(*args)\n",
      "        Return list of dict.\n",
      "    \n",
      "    rjson(*args)\n",
      "    \n",
      "    rlines(*args)\n",
      "    \n",
      "    rparquet(*args)\n",
      "    \n",
      "    rstring(*args)\n",
      "    \n",
      "    wcsv(js, *args)\n",
      "    \n",
      "    wjson(js, *args)\n",
      "    \n",
      "    wstring(s, *args)\n",
      "\n",
      "DATA\n",
      "    SCRIPT_DIR = r'C:\\Users\\lbyxi\\miniconda3\\envs\\jnb\\lib\\site-packages\\bo...\n",
      "\n",
      "FILE\n",
      "    c:\\users\\lbyxi\\miniconda3\\envs\\jnb\\lib\\site-packages\\bonbon\\local\\bon_file.py\n",
      "\n",
      "\n",
      "None\n",
      "Help on function km in module bonbon.local.bon_env:\n",
      "\n",
      "km(fn)\n",
      "\n",
      "None\n"
     ]
    }
   ],
   "source": [
    "import bonbon\n",
    "print(help(bonbon.local.bon_file))\n",
    "print(help(bonbon.km))"
   ]
  },
  {
   "cell_type": "code",
   "execution_count": 20,
   "id": "14e4dcdb",
   "metadata": {},
   "outputs": [
    {
     "name": "stdout",
     "output_type": "stream",
     "text": [
      "['{\\n', '    \"name\": \"km\"\\n', '}\\n', '{\\n', '    \"address\": \"bellevue\"\\n', '}']\n",
      "C:\\Users\\lbyxi\\KM\\test.jsonl\n"
     ]
    }
   ],
   "source": [
    "from bonbon import *\n",
    "\n",
    "t = rlines(puser('KM','test.jsonl'))\n",
    "print(t)\n",
    "print(puser('KM','test.jsonl'))"
   ]
  },
  {
   "cell_type": "code",
   "execution_count": 45,
   "id": "1e5e357e",
   "metadata": {},
   "outputs": [
    {
     "name": "stdout",
     "output_type": "stream",
     "text": [
      "{'name': 'km', 'address': 'bellevue', 'code': 'js=sdf\\\\'}\n",
      "foo: km bellevue gender 1\n"
     ]
    }
   ],
   "source": [
    "from bonbon import *\n",
    "\n",
    "def km(fn):\n",
    "    rows = rlines(puser('KM',fn))\n",
    "    kd = {}\n",
    "    for row in rows:\n",
    "        kd[row.split('=',1)[0]]=row.split('=',1)[1].rstrip('\\n')\n",
    "    print(kd)\n",
    "    def decorator(func):\n",
    "        def wrapper(*args, **kwargs):\n",
    "            arr = [kd[x] if x in kd else x for x in args]\n",
    "            func(*arr,**kwargs)\n",
    "        return wrapper\n",
    "    return decorator\n",
    "    \n",
    "\n",
    "@km(fn='test.km')\n",
    "def foo(s,*args):\n",
    "    print('foo:',s,*args)\n",
    "    \n",
    "foo('name','address','gender',1)"
   ]
  }
 ],
 "metadata": {
  "kernelspec": {
   "display_name": "Python 3 (ipykernel)",
   "language": "python",
   "name": "python3"
  },
  "language_info": {
   "codemirror_mode": {
    "name": "ipython",
    "version": 3
   },
   "file_extension": ".py",
   "mimetype": "text/x-python",
   "name": "python",
   "nbconvert_exporter": "python",
   "pygments_lexer": "ipython3",
   "version": "3.9.16"
  }
 },
 "nbformat": 4,
 "nbformat_minor": 5
}
