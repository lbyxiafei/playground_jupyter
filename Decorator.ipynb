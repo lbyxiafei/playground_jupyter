{
 "cells": [
  {
   "cell_type": "markdown",
   "id": "fad98ed6",
   "metadata": {},
   "source": [
    "## Decorator\n",
    "\n",
    "```python\n",
    "@decorator\n",
    "def func():\n",
    "    pass\n",
    "```\n",
    "\n",
    "**会被解析为**\n",
    "\n",
    "```python\n",
    "func = decorator(func)\n",
    "```"
   ]
  },
  {
   "cell_type": "code",
   "execution_count": null,
   "id": "e63dac85",
   "metadata": {},
   "outputs": [],
   "source": [
    "\n",
    "def hello(fn):\n",
    "    def test():\n",
    "        print('test')\n",
    "    def wrapper():\n",
    "        print(\"hello, %s\" % fn.__name__)\n",
    "        fn()\n",
    "        print(\"goodbye, %s\" % fn.__name__)\n",
    "    return wrapper\n",
    " \n",
    "@hello\n",
    "def Hao():\n",
    "    print(\"i am Hao Chen\")\n",
    "\n",
    "# hello(Hao)\n",
    "Hao()"
   ]
  },
  {
   "cell_type": "code",
   "execution_count": null,
   "id": "a804004f",
   "metadata": {},
   "outputs": [],
   "source": [
    "\n",
    "def makeHtmlTag(tag, *args, **kwds):\n",
    "    def real_decorator(fn):\n",
    "        css_class = \" class='{0}'\".format(kwds[\"css_class\"]) \\\n",
    "                                     if \"css_class\" in kwds else \"\"\n",
    "        def wrapped(*args, **kwds):\n",
    "            return \"<\"+tag+css_class+\">\" + fn(*args, **kwds) + \"</\"+tag+\">\"\n",
    "        return wrapped\n",
    "    return real_decorator\n",
    " \n",
    "@makeHtmlTag(tag=\"b\", css_class=\"bold_css\")\n",
    "@makeHtmlTag(tag=\"i\", css_class=\"italic_css\")\n",
    "def hello():\n",
    "    return \"hello world\"\n",
    " \n",
    "print(hello())\n",
    "\n",
    "# makeHtmlTag(arg1, arg2)(makeHtmlTag(arg1, arg2)(hello))\n",
    "# 输出：\n",
    "# <b class='bold_css'><i class='italic_css'>hello world</i></b>\n",
    "\n"
   ]
  },
  {
   "cell_type": "code",
   "execution_count": null,
   "id": "c4fc9bee",
   "metadata": {},
   "outputs": [],
   "source": [
    "\n",
    "class MyApp():\n",
    "    def __init__(self):\n",
    "        self.func_map = {}\n",
    " \n",
    "    def register(self, name):\n",
    "        def func_wrapper(func):\n",
    "            self.func_map[name] = func\n",
    "            return func\n",
    "        return func_wrapper\n",
    " \n",
    "    def call_method(self, name=None):\n",
    "        func = self.func_map.get(name, None)\n",
    "        if func is None:\n",
    "            raise Exception(\"No function registered against - \" + str(name))\n",
    "        return func()\n",
    " \n",
    "app = MyApp()\n",
    " \n",
    "@app.register('/')\n",
    "def main_page_func():\n",
    "    return \"This is the main page.\"\n",
    " \n",
    "@app.register('/next_page')\n",
    "def next_page_func():\n",
    "    return \"This is the next page.\"\n",
    " \n",
    "print(app.call_method('/'))\n",
    "print(app.call_method('/next_page'))"
   ]
  },
  {
   "cell_type": "code",
   "execution_count": null,
   "id": "e399b24d",
   "metadata": {},
   "outputs": [],
   "source": [
    "def foo(func):\n",
    "    def decorator():\n",
    "        def wrapper():\n",
    "            func()\n",
    "        return wrapper\n",
    "    return decorator\n",
    "\n",
    "@foo\n",
    "def bar():\n",
    "    print('bar')\n",
    "    \n",
    "bar()"
   ]
  },
  {
   "cell_type": "code",
   "execution_count": null,
   "id": "2732b17b",
   "metadata": {},
   "outputs": [],
   "source": [
    "def foo(func):\n",
    "    def wrapper(*args, **kwargs):\n",
    "        func(*args, **kwargs)\n",
    "        print(\"foo\")\n",
    "    return wrapper\n",
    "    \n",
    "@foo\n",
    "def bar():\n",
    "    print(\"bar\")\n",
    "    \n",
    "bar()"
   ]
  },
  {
   "cell_type": "code",
   "execution_count": null,
   "id": "413a7b5c",
   "metadata": {},
   "outputs": [],
   "source": [
    "def foo(name):\n",
    "    print(name)\n",
    "    def decorator(func):\n",
    "        def wrapper(*args, **kwargs):\n",
    "            print(\"foo\")\n",
    "            return func(*args, **kwargs)\n",
    "        return wrapper\n",
    "    return decorator\n",
    "    \n",
    "@foo(name='abc')\n",
    "def bar(msg='msg'):\n",
    "    print(\"bar\", msg)\n",
    "    return \"!\"\n",
    "    \n",
    "t=bar()\n",
    "print(t)"
   ]
  },
  {
   "cell_type": "code",
   "execution_count": 3,
   "id": "b732c6a8",
   "metadata": {},
   "outputs": [
    {
     "name": "stdout",
     "output_type": "stream",
     "text": [
      "['BlobClient', 'BlobServiceClient', 'ContainerClient', 'DataFrame', 'SCRIPT_DIR', '__builtins__', '__cached__', '__doc__', '__file__', '__loader__', '__name__', '__package__', '__path__', '__spec__', 'afk', 'astring', 'azure_blob_get', 'azure_blob_upload', 'change_dir', 'contextmanager', 'copy', 'csv', 'datetime', 'hk', 'http_get', 'http_post', 'json', 'keyboard', 'km', 'local', 'mdir', 'monitor_keyboard', 'monitor_mouse', 'mouse', 'move', 'os', 'pdownloads', 'pjson', 'pq', 'puser', 'pyodbc', 'rcsv', 're', 'remote', 'requests', 'rjson', 'rlines', 'rparquet', 'rstring', 'sleep', 'sql_execute_query', 'sql_query_cell', 'sql_query_rows', 'storage', 'sys', 'test', 'wcsv', 'wjson', 'wstring']\n",
      "Help on function km in module bonbon.local.bon_env:\n",
      "\n",
      "km(fn)\n",
      "    Decorator function to replace func string param with corresponding value from key management: ~/KM/targetFile\n",
      "    \n",
      "    Args:\n",
      "        fn: file name pointing to key management service/file\n",
      "    \n",
      "    Return:\n",
      "        Decorated function.\n",
      "\n",
      "None\n"
     ]
    }
   ],
   "source": [
    "import bonbon\n",
    "print(dir(bonbon))\n",
    "print(help(bonbon.km))"
   ]
  },
  {
   "cell_type": "code",
   "execution_count": null,
   "id": "14e4dcdb",
   "metadata": {},
   "outputs": [],
   "source": [
    "from bonbon import *\n",
    "\n",
    "t = rlines(puser('KM','test.jsonl'))\n",
    "print(t)\n",
    "print(puser('KM','test.jsonl'))"
   ]
  },
  {
   "cell_type": "code",
   "execution_count": 7,
   "id": "1e5e357e",
   "metadata": {},
   "outputs": [
    {
     "name": "stdout",
     "output_type": "stream",
     "text": [
      "foo: km bay area google 1\n"
     ]
    }
   ],
   "source": [
    "from bonbon import *\n",
    "\n",
    "@km(fn='prod.km')\n",
    "def foo(s,*args):\n",
    "    print('foo:',s,*args)\n",
    "    \n",
    "foo('name','address','code',1)"
   ]
  }
 ],
 "metadata": {
  "kernelspec": {
   "display_name": "Python 3 (ipykernel)",
   "language": "python",
   "name": "python3"
  },
  "language_info": {
   "codemirror_mode": {
    "name": "ipython",
    "version": 3
   },
   "file_extension": ".py",
   "mimetype": "text/x-python",
   "name": "python",
   "nbconvert_exporter": "python",
   "pygments_lexer": "ipython3",
   "version": "3.9.16"
  }
 },
 "nbformat": 4,
 "nbformat_minor": 5
}
